{
 "cells": [
  {
   "cell_type": "markdown",
   "metadata": {},
   "source": [
    "# Helper REST functions for DataScope Select"
   ]
  },
  {
   "cell_type": "code",
   "execution_count": 1,
   "metadata": {},
   "outputs": [],
   "source": [
    "import requests, json"
   ]
  },
  {
   "cell_type": "code",
   "execution_count": 10,
   "metadata": {},
   "outputs": [],
   "source": [
    "rthBaseURL = 'https://selectapi.datascope.refinitiv.com/RestApi/v1'\n",
    "\n",
    "hdrs = {\n",
    "    \"Prefer\": \"respond-async\",\n",
    "    \"Content-Type\": \"application/json\" \n",
    "}"
   ]
  },
  {
   "cell_type": "code",
   "execution_count": 11,
   "metadata": {},
   "outputs": [],
   "source": [
    "def DSS_login(rthUserName, rthPassword):\n",
    "    global hdrs\n",
    "    pData = {\n",
    "        \"Credentials\": {\n",
    "            \"Username\": rthUserName,\n",
    "            \"Password\": rthPassword\n",
    "        }\n",
    "    }\n",
    "\n",
    "    dResp = requests.post(f'{rthBaseURL}/Authentication/RequestToken', data=json.dumps(pData), headers=hdrs)\n",
    "\n",
    "    if (dResp.status_code == 200):\n",
    "        aToken = dResp.json()['value']\n",
    "        # keep a copy of the oAuth token for other calls\n",
    "        hdrs[\"Authorization\"] = \"Token \" + aToken\n",
    "        return aToken\n",
    "    else:\n",
    "        raise ValueError(dResp.json()['error']['message'])\n"
   ]
  },
  {
   "cell_type": "code",
   "execution_count": 14,
   "metadata": {},
   "outputs": [],
   "source": [
    "def DSS_getAsync(uri):\n",
    "    dResp = requests.get(f'{rthBaseURL}{uri}', headers=hdrs)\n",
    "    # is it a 202 (in progress)\n",
    "    while dResp.status_code == 202:\n",
    "        print(\"waiting for response...\")\n",
    "        # check if the response completed yet\n",
    "        nURL = dResp.headers['Location']\n",
    "        dResp = requests.get(nURL, headers=hdrs)\n",
    "\n",
    "    if (dResp.status_code == 200):\n",
    "        return dResp.json()\n",
    "    else:\n",
    "        raise ValueError(dResp.json())\n"
   ]
  },
  {
   "cell_type": "code",
   "execution_count": null,
   "metadata": {},
   "outputs": [],
   "source": [
    "def DSS_postAsync(uri, pData):\n",
    "    dResp = requests.post(f'{rthBaseURL}{uri}', data=json.dumps(pData), headers=hdrs)\n",
    "    # is it a 202 (in progress)\n",
    "    while dResp.status_code == 202:\n",
    "        print(\"waiting for response...\")\n",
    "        # check if the response completed yet\n",
    "        nURL = dResp.headers['Location']\n",
    "        dResp = requests.get(nURL, headers=hdrs)\n",
    "\n",
    "    if (dResp.status_code == 200):\n",
    "        return dResp.json()\n",
    "    else:\n",
    "        raise ValueError(dResp.json())\n"
   ]
  }
 ],
 "metadata": {
  "kernelspec": {
   "display_name": "dss",
   "language": "python",
   "name": "python3"
  },
  "language_info": {
   "codemirror_mode": {
    "name": "ipython",
    "version": 3
   },
   "file_extension": ".py",
   "mimetype": "text/x-python",
   "name": "python",
   "nbconvert_exporter": "python",
   "pygments_lexer": "ipython3",
   "version": "3.9.6"
  }
 },
 "nbformat": 4,
 "nbformat_minor": 2
}
