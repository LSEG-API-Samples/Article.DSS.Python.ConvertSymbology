{
 "cells": [
  {
   "cell_type": "markdown",
   "metadata": {},
   "source": [
    "# Symbology conversion using Datascope Select API"
   ]
  },
  {
   "cell_type": "code",
   "execution_count": 1,
   "metadata": {},
   "outputs": [],
   "source": [
    "import csv"
   ]
  },
  {
   "cell_type": "code",
   "execution_count": 2,
   "metadata": {},
   "outputs": [],
   "source": [
    "uName = '-- DSS USERNAME --'\n",
    "pw = '-- DSS PASSWORD --'\n",
    "\n",
    "inputFileName = 'input.csv'\n",
    "outputFileName = 'output.csv'"
   ]
  },
  {
   "cell_type": "code",
   "execution_count": 3,
   "metadata": {},
   "outputs": [],
   "source": [
    "# execute the helper functions defined for accessing DSS REST API calls \n",
    "%run DSSDefines.ipynb"
   ]
  },
  {
   "cell_type": "code",
   "execution_count": 4,
   "metadata": {},
   "outputs": [],
   "source": [
    "# Read the input CSV file\n",
    "# Format: (Identifier Type, Identifier)\n",
    "\n",
    "inpList = []\n",
    "with open(inputFileName) as csvfile:\n",
    "    rdr = csv.reader(csvfile)\n",
    "    for row in rdr:\n",
    "        inpList.append(row)"
   ]
  },
  {
   "cell_type": "code",
   "execution_count": null,
   "metadata": {},
   "outputs": [],
   "source": [
    "# Login to DSS and get a get an access token\n",
    "DSS_login(uName, pw)"
   ]
  },
  {
   "cell_type": "code",
   "execution_count": 6,
   "metadata": {},
   "outputs": [],
   "source": [
    "# Form the request message payload with input symbols\n",
    "csvIdentifiers = []\n",
    "\n",
    "for idn in inpList:\n",
    "    iObj = {\n",
    "        \"IdentifierType\": idn[0],\n",
    "        \"Identifier\": idn[1]\n",
    "    }\n",
    "    csvIdentifiers.append(iObj)\n"
   ]
  },
  {
   "cell_type": "code",
   "execution_count": 7,
   "metadata": {},
   "outputs": [],
   "source": [
    "# Send the symbology conversion request\n",
    "fieldNames = ['RIC', 'CUSIP', 'ISIN', 'SEDOL', 'Company Name', 'Currency Code']\n",
    "\n",
    "rBody = {\n",
    "    \"ExtractionRequest\": {\n",
    "        \"@odata.type\": \"#DataScope.Select.Api.Extractions.ExtractionRequests.TermsAndConditionsExtractionRequest\",\n",
    "        \"ContentFieldNames\": fieldNames,\n",
    "        \"IdentifierList\": {\n",
    "            \"@odata.type\": \"#DataScope.Select.Api.Extractions.ExtractionRequests.InstrumentIdentifierList\",\n",
    "            \"InstrumentIdentifiers\": csvIdentifiers,\n",
    "            \"ValidationOptions\": {\n",
    "                \"AllowHistoricalInstruments\": True,\n",
    "                \"AllowInactiveInstruments\": True,\n",
    "                \"AllowOpenAccessInstruments\": False\n",
    "            },\n",
    "            \"UseUserPreferencesForValidationOptions\": False\n",
    "        }\n",
    "    }\n",
    "}\n",
    "\n",
    "convertedJ = DSS_postAsync('/Extractions/ExtractWithNotes', rBody)"
   ]
  },
  {
   "cell_type": "code",
   "execution_count": 8,
   "metadata": {},
   "outputs": [],
   "source": [
    "# Save the converted symbols into a CSV file\n",
    "with open(outputFileName, 'w', newline='') as outfile:\n",
    "    owriter = csv.writer(outfile)\n",
    "    headerKeys = convertedJ['Contents'][0].keys()\n",
    "    owriter.writerow(list(headerKeys))\n",
    "\n",
    "    for itm in convertedJ['Contents']:\n",
    "        thisrow = []\n",
    "        for key in headerKeys:\n",
    "            thisrow.append(itm[key])\n",
    "\n",
    "        owriter.writerow(thisrow)\n"
   ]
  },
  {
   "cell_type": "code",
   "execution_count": null,
   "metadata": {},
   "outputs": [],
   "source": []
  }
 ],
 "metadata": {
  "kernelspec": {
   "display_name": "dss",
   "language": "python",
   "name": "python3"
  },
  "language_info": {
   "codemirror_mode": {
    "name": "ipython",
    "version": 3
   },
   "file_extension": ".py",
   "mimetype": "text/x-python",
   "name": "python",
   "nbconvert_exporter": "python",
   "pygments_lexer": "ipython3",
   "version": "3.9.6"
  }
 },
 "nbformat": 4,
 "nbformat_minor": 2
}
